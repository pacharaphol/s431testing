{
 "cells": [
  {
   "cell_type": "markdown",
   "metadata": {},
   "source": [
    "# CPE-341, Quiz 2/2015\n",
    "# Question Set D\n",
    "\n",
    "- Iteration Design Pattern : List, Dictionary\n",
    "- Using Class `Card` in a List"
   ]
  },
  {
   "cell_type": "code",
   "execution_count": 1,
   "metadata": {
    "collapsed": false
   },
   "outputs": [
    {
     "data": {
      "text/html": [
       "<style>\n",
       "@import url('http://fonts.googleapis.com/css?family=Crimson+Text');\n",
       "@import url('http://fonts.googleapis.com/css?family=Kameron');\n",
       "@import url('http://fonts.googleapis.com/css?family=Lato:200,300,400');\n",
       "@import url('http://fonts.googleapis.com/css?family=Source+Code+Pro');\n",
       "@import url(https://fonts.googleapis.com/css?family=Droid+Sans);\n",
       "\n",
       ".rendered_html {\n",
       "    font-family: \"Droid Sans\", helvetica;\n",
       "    font-size: 110%;\n",
       "    line-height: 1.3;\n",
       "}\n",
       "\n",
       ".rendered_html h1 {\n",
       "    margin: 0.25em 0em 0.5em;\n",
       "    color: #015C9C;\n",
       "    text-align: center;\n",
       "    line-height: 1.2; \n",
       "    page-break-before: always;\n",
       "}\n",
       "\n",
       ".rendered_html h2 {\n",
       "    margin: 1.1em 0em 0.5em;\n",
       "    color: #26465D;\n",
       "    line-height: 1.2;\n",
       "}\n",
       "\n",
       ".rendered_html h3 {\n",
       "    margin: 1.1em 0em 0.5em;\n",
       "    color: #002845;\n",
       "    line-height: 1.2;\n",
       "}\n",
       "\n",
       ".rendered_html li {\n",
       "    line-height: 1.5; \n",
       "}\n",
       "\n",
       "/*.prompt {\n",
       "    font-size: 120%; \n",
       "}*/\n",
       "\n",
       ".CodeMirror-lines {\n",
       "\tfont-family: 'Source Code Pro', Consolas, monocco, monospace; /* Kittima added*/\n",
       "    font-size: 110%; \n",
       "}\n",
       "\n",
       "/*.output_area {\n",
       "    font-size: 120%; \n",
       "}*/\n",
       "\n",
       "/*#notebook {\n",
       "    background-image: url('files/images/witewall_3.png');\n",
       "}*/\n",
       "\n",
       "h1.bigtitle {\n",
       "    margin: 4cm 1cm 4cm 1cm;\n",
       "    font-size: 300%;\n",
       "}\n",
       "\n",
       "h3.point {\n",
       "    font-size: 200%;\n",
       "    text-align: center;\n",
       "    margin: 2em 0em 2em 0em;\n",
       "    #26465D\n",
       "}\n",
       "\n",
       ".logo {\n",
       "    margin: 20px 0 20px 0;\n",
       "}\n",
       "\n",
       "a.anchor-link {\n",
       "    display: none;\n",
       "}\n",
       "\n",
       "h1.title { \n",
       "    font-size: 250%;\n",
       "}\n",
       "\n",
       "\n",
       "/* Kittima added */\n",
       "div.text_cell_render h1,  \n",
       "div.text_cell_render h2,  \n",
       "div.text_cell_render h3,  \n",
       "div.text_cell_render h4,  \n",
       "div.text_cell_render h5,  \n",
       "div.text_cell_render h6 {  \n",
       "    font-family: 'Droid Sans';\n",
       "}\n",
       "\n",
       "div.text_cell {  \n",
       "    max-width: 105ex; /* instead of 100%, */\n",
       "}\n",
       "\n",
       "code {\n",
       "\t/* background-color : #fffffa !important;  */\n",
       "\tbackground-color : #f5f5f5 !important;\n",
       "}\n",
       "</style>"
      ],
      "text/plain": [
       "<IPython.core.display.HTML object>"
      ]
     },
     "metadata": {},
     "output_type": "display_data"
    }
   ],
   "source": [
    "%reload_ext load_style\n",
    "%load_style talk.css"
   ]
  },
  {
   "cell_type": "code",
   "execution_count": 5,
   "metadata": {
    "collapsed": false
   },
   "outputs": [
    {
     "data": {
      "text/plain": [
       "'2017-02-10T04:23:23.350893'"
      ]
     },
     "execution_count": 5,
     "metadata": {},
     "output_type": "execute_result"
    }
   ],
   "source": [
    "## รหัสประจำตัวนักศึกษา : 57113021-0\n",
    "## พชรพล กองนิล \n",
    "##\n",
    "## คลิก Run cell นี้เพียงครั้งเดียว\n",
    "##\n",
    "##\n",
    "import datetime\n",
    "datetime.datetime.now().isoformat()"
   ]
  },
  {
   "cell_type": "markdown",
   "metadata": {},
   "source": [
    "## Question 1 ( @2 pt x 2 = 4 pts )\n",
    "\n",
    "### Q1.a \n",
    "จงเขียนคำสั่ง เพื่อพิมพ์ค่าตัวเลขจาก list `mycoins` ที่ index ที่กำหนดให้"
   ]
  },
  {
   "cell_type": "code",
   "execution_count": 6,
   "metadata": {
    "collapsed": true
   },
   "outputs": [],
   "source": [
    "## ไม่แก้ไขข้อมูลใน cell นี้\n",
    "\n",
    "mycoins = [12, 4, 10, 1, 6, 18, 19, 4]"
   ]
  },
  {
   "cell_type": "code",
   "execution_count": 8,
   "metadata": {
    "collapsed": false
   },
   "outputs": [
    {
     "name": "stdout",
     "output_type": "stream",
     "text": [
      "6\n"
     ]
    }
   ],
   "source": [
    "## ANSWER Q1.a\n",
    "##\n",
    "index = 6\n",
    "\n",
    "print(mycoins[4])\n"
   ]
  },
  {
   "cell_type": "markdown",
   "metadata": {},
   "source": [
    "### Q1.b \n",
    "จงเขียนคำสั่ง เพื่อพิมพ์ตัวเลขที่มีค่า ***น้อยกว่า*** 10 จาก **list** `mycoins` ในข้อ (1.a)"
   ]
  },
  {
   "cell_type": "code",
   "execution_count": null,
   "metadata": {
    "collapsed": false
   },
   "outputs": [
    {
     "name": "stdout",
     "output_type": "stream",
     "text": [
      "[4, 10, 1, 6]\n"
     ]
    }
   ],
   "source": [
    "## ANSWER Q1.b\n",
    "##\n",
    "print(mycoins[1:5])\n",
    "\n"
   ]
  },
  {
   "cell_type": "code",
   "execution_count": null,
   "metadata": {
    "collapsed": true
   },
   "outputs": [],
   "source": []
  },
  {
   "cell_type": "markdown",
   "metadata": {},
   "source": [
    "## Question 2 ( @3 pts x 4 = 12 pts )\n",
    "\n",
    "### Q2.a \n",
    "จงสร้าง **list** เพื่อเก็บข้อมูลตัวเลขคู่ $ 2, 4, 6, ... , 28, 30, 32 $   โดยใข้ `range`"
   ]
  },
  {
   "cell_type": "code",
   "execution_count": 6,
   "metadata": {
    "collapsed": false
   },
   "outputs": [
    {
     "data": {
      "text/plain": [
       "[0, 2, 4, 6, 8, 10, 12, 14, 16, 18, 20, 22, 24, 26, 28, 30, 32]"
      ]
     },
     "execution_count": 6,
     "metadata": {},
     "output_type": "execute_result"
    }
   ],
   "source": [
    "## ANSWER Q2.a\n",
    "##\n",
    "list(range(0,34,2))\n"
   ]
  },
  {
   "cell_type": "code",
   "execution_count": null,
   "metadata": {
    "collapsed": true
   },
   "outputs": [],
   "source": []
  },
  {
   "cell_type": "markdown",
   "metadata": {},
   "source": [
    "### Q2.b \n",
    "จงสร้าง **list** เพื่อเก็บ**ตัวเลขสุ่ม** ในช่วง 1-99 จำนวน 4 ตัวเลข โดยใข้ฟังก์ชั่น `randint` จากไลบรารี `random`"
   ]
  },
  {
   "cell_type": "code",
   "execution_count": 10,
   "metadata": {
    "collapsed": false
   },
   "outputs": [
    {
     "name": "stdout",
     "output_type": "stream",
     "text": [
      "[11, 23, 49, 92]\n"
     ]
    }
   ],
   "source": [
    "## ANSWER Q2.b\n",
    "##\n",
    "## \n",
    "\n",
    "import random\n",
    "lotteryNumbers = []\n",
    "for i in range (0,4):\n",
    "  number = random.randint(1,100)\n",
    "  while number in lotteryNumbers:\n",
    "    number = random.randint(1,100)\n",
    "  lotteryNumbers.append(number)\n",
    "lotteryNumbers.sort()\n",
    "print(lotteryNumbers)"
   ]
  },
  {
   "cell_type": "markdown",
   "metadata": {},
   "source": [
    "### Q2.c \n",
    "จงเขียน `def` ชื่อ `sum_of_sqrt` สำหรับหาผลรวมของ square root ของตัวเลขใน **list** ที่เป็น argument  \n",
    "\n",
    "เช่น เมื่อเรียกใช้ `sum_of_sqrt([1,2,3,4,5,6,7,8,9])` จะได้ผลลัพธ์เป็นดังนี้\n",
    "\n",
    "$$\\sqrt{1}  + \\sqrt{2} + \\sqrt{3} +  ...  + \\sqrt{7} + \\sqrt{8} + \\sqrt{9} = 19.30600052603572 $$"
   ]
  },
  {
   "cell_type": "code",
   "execution_count": 21,
   "metadata": {
    "collapsed": false
   },
   "outputs": [],
   "source": [
    "# ANSWER Q2.c\n",
    "##\n",
    "## \n",
    "from math import sqrt\n",
    "\n",
    "def sum_of_sqrt(number_list):\n",
    "    sum_sqrt = 0\n",
    "    for i in range(0,len(number_list)):\n",
    "             sum_sqrt += sqrt(number_list[i])\n",
    "    print(sum_sqrt)\n",
    "\n",
    "\n",
    "\n"
   ]
  },
  {
   "cell_type": "code",
   "execution_count": 22,
   "metadata": {
    "collapsed": false
   },
   "outputs": [
    {
     "name": "stdout",
     "output_type": "stream",
     "text": [
      "[0, 1, 2, 3, 4, 5, 6, 7, 8, 9]\n",
      "19.30600052603572\n"
     ]
    }
   ],
   "source": [
    "## Test sum_of_sqrt()\n",
    "nums = [i for i in range(10) ]\n",
    "\n",
    "print(nums)\n",
    "sum_of_sqrt(nums)"
   ]
  },
  {
   "cell_type": "code",
   "execution_count": 23,
   "metadata": {
    "collapsed": false
   },
   "outputs": [
    {
     "name": "stdout",
     "output_type": "stream",
     "text": [
      "[100, 104, 108, 112, 116, 120]\n",
      "62.89812988122953\n"
     ]
    }
   ],
   "source": [
    "## Test sum_of_sqrt() again \n",
    "nums = [100, 104, 108, 112, 116, 120]\n",
    "\n",
    "print(nums)\n",
    "sum_of_sqrt(nums)\n",
    "\n",
    "# should print out:\n",
    "# 62.89812988122953"
   ]
  },
  {
   "cell_type": "code",
   "execution_count": null,
   "metadata": {
    "collapsed": true
   },
   "outputs": [],
   "source": []
  },
  {
   "cell_type": "markdown",
   "metadata": {},
   "source": [
    "### Q2.d \n",
    "จงหา**ค่าเฉลี่ย**ของตัวเลขใน **list** ต่อไปนี้ แล้วเก็บไว้ที่ตัวแปรชื่อ `avg_` โดยใข้ฟังก์ชั่น `sum`, `len` \n",
    "\n",
    "```\n",
    "myTest = [200, 265, 228, 202, 235, 284]\n",
    "```"
   ]
  },
  {
   "cell_type": "code",
   "execution_count": 35,
   "metadata": {
    "collapsed": false
   },
   "outputs": [
    {
     "name": "stdout",
     "output_type": "stream",
     "text": [
      "235.66666666666666\n"
     ]
    }
   ],
   "source": [
    "# ANSWER Q2.d\n",
    "##\n",
    "## \n",
    "myTest = [200, 265, 228, 202, 235, 284]\n",
    "sum =0\n",
    "for i in range(len(myTest)):\n",
    "    sum += myTest[i]\n",
    "print (sum/len(myTest))\n"
   ]
  },
  {
   "cell_type": "code",
   "execution_count": null,
   "metadata": {
    "collapsed": false
   },
   "outputs": [],
   "source": []
  },
  {
   "cell_type": "markdown",
   "metadata": {},
   "source": [
    "## Question 3 ( @6 pts x 2 = 12 pts )\n",
    "\n",
    "### Q3.a \n",
    "กำหนดให้ **dict** `๋JP_COINS` เก็บค่าเงินของเหรียญญี่ปุ่น (เงินเยน ¥) 6 ชนิด (ใช้ใน Q3.b)\n",
    "\n",
    "จงหาจำนวนเหรียญใน list `piggy` ซึ่งเป็นกระปุกเงินเก็บเหรียญ โดยผลลัพธ์เก็บค่าไว้ที่ตัวแปร `count` "
   ]
  },
  {
   "cell_type": "code",
   "execution_count": 37,
   "metadata": {
    "collapsed": false
   },
   "outputs": [],
   "source": [
    "## ไม่แก้ไขข้อมูลใน cell นี้\n",
    "\n",
    "JP_COINS = { \"1Y\": 1, \"5Y\": 5, \"10Y\": 10, \"50Y\": 50, \"100Y\": 100, \"500Y\": 500 }\n",
    "\n",
    "## piggy keeps the number of Japanese ¥ coins \n",
    "piggy = { \"500Y\":2, \"1Y\":8, \"100Y\":4, \"10Y\":24, \"50Y\":2 }"
   ]
  },
  {
   "cell_type": "code",
   "execution_count": 59,
   "metadata": {
    "collapsed": false
   },
   "outputs": [],
   "source": [
    "## ANSWER Q3.a\n",
    "##\n",
    "\n",
    "count = 0\n",
    "#------- add your code here\n",
    "count = piggy[\"500Y\"]+piggy[\"1Y\"]+piggy[\"100Y\"]+piggy[\"10Y\"]+piggy[\"50Y\"]\n"
   ]
  },
  {
   "cell_type": "code",
   "execution_count": 60,
   "metadata": {
    "collapsed": false
   },
   "outputs": [
    {
     "name": "stdout",
     "output_type": "stream",
     "text": [
      "40\n"
     ]
    }
   ],
   "source": [
    "print(count)"
   ]
  },
  {
   "cell_type": "markdown",
   "metadata": {
    "collapsed": true
   },
   "source": [
    "### Q3.b\n",
    "จงหามูลค่าของเงินทั้งหมดใน list `piggy` (หน่วย: เยน)"
   ]
  },
  {
   "cell_type": "code",
   "execution_count": 64,
   "metadata": {
    "collapsed": false
   },
   "outputs": [],
   "source": [
    "## ANSWER Q3.b\n",
    "##\n",
    "\n",
    "total = 0.\n",
    "#------ add your code here\n",
    "\n",
    "total = JP_COINS[\"1Y\"]+JP_COINS[\"5Y\"]+JP_COINS[\"10Y\"]+JP_COINS[\"50Y\"]+JP_COINS[\"100Y\"]+JP_COINS[\"500Y\"]\n",
    "\n"
   ]
  },
  {
   "cell_type": "code",
   "execution_count": 65,
   "metadata": {
    "collapsed": false
   },
   "outputs": [
    {
     "name": "stdout",
     "output_type": "stream",
     "text": [
      "666\n"
     ]
    }
   ],
   "source": [
    "print(total)"
   ]
  },
  {
   "cell_type": "code",
   "execution_count": null,
   "metadata": {
    "collapsed": true
   },
   "outputs": [],
   "source": []
  },
  {
   "cell_type": "markdown",
   "metadata": {},
   "source": [
    "## Question 4 ( @6 pts x 2 = 12 pts )\n",
    "\n",
    "### Q4.a \n",
    "จาก class `Card` ซึ่งแทนไพ่แต่ละใบ จงสร้างไพ่ 4 ใบที่ไม่ซ้ำกัน เก็บไว้ใน list ชื่อ `my_cards` แล้วหาค่าผลรวมของหน้าไพ่ เก็บผลลัพธ์ที่ตัวแปร `my_points`\n",
    "\n",
    "ในที่นี้ ให้คิดหน้าไพ่ ตาม rank ที่กำหนดใน dict `CARD_VALUE` \n",
    "เช่น ไพ่ `2` มีค่า `2`, `3` มีค่า 3, .... ไพ่ `T` (หรือเลข 10) มีค่า 10, `J` มีค่า 11, ..., ไพ่ `A` มีค่า 14 "
   ]
  },
  {
   "cell_type": "code",
   "execution_count": 78,
   "metadata": {
    "collapsed": false
   },
   "outputs": [],
   "source": [
    "## ไม่แก้ไขข้อมูลใน cell นี้\n",
    "CARD_SUIT = \"cdhs\"             # Club, Diamond, Heart, Spade\n",
    "CARD_RANK = \"--23456789TJQKA\"  # index 0-1 not used\n",
    "CARD_VALUE = {\n",
    "    '2':2, '3':3, '4':4,  '5':5,  '6':6,  '7':7,\n",
    "    '8':8, '9':9, 'T':10, 'J':11, 'Q':12, 'K':13, 'A':14\n",
    "}\n",
    "\n",
    "class Card(object):     \n",
    "    def __init__(self, face):\n",
    "        self.__face = face\n",
    "        \n",
    "    @property\n",
    "    def face(self):\n",
    "        return self.__face\n",
    "        \n",
    "    @property\n",
    "    def suit(self):\n",
    "        card_suit = self.__face[0]\n",
    "        return card_suit\n",
    "\n",
    "    @property\n",
    "    def rank(self):\n",
    "        card_rank = self.__face[1]\n",
    "        return card_rank        "
   ]
  },
  {
   "cell_type": "code",
   "execution_count": 79,
   "metadata": {
    "collapsed": false
   },
   "outputs": [
    {
     "name": "stdout",
     "output_type": "stream",
     "text": [
      "c 2\n"
     ]
    }
   ],
   "source": [
    "## ตัวอย่างการสร้่้างไพ่ 1 ใบ\n",
    "c1 = Card('c2')\n",
    "print(c1.suit, c1.rank)"
   ]
  },
  {
   "cell_type": "code",
   "execution_count": 80,
   "metadata": {
    "collapsed": false
   },
   "outputs": [
    {
     "name": "stdout",
     "output_type": "stream",
     "text": [
      "12\n"
     ]
    }
   ],
   "source": [
    "## example: look up for the value of a card\n",
    "c2 = Card('sQ')\n",
    "print( CARD_VALUE[ c2.rank ] ) "
   ]
  },
  {
   "cell_type": "code",
   "execution_count": 82,
   "metadata": {
    "collapsed": false
   },
   "outputs": [
    {
     "data": {
      "text/plain": [
       "<__main__.Card at 0x7f0b54489160>"
      ]
     },
     "execution_count": 82,
     "metadata": {},
     "output_type": "execute_result"
    }
   ],
   "source": [
    "c3 = Card('dT')\n",
    "c3"
   ]
  },
  {
   "cell_type": "code",
   "execution_count": 91,
   "metadata": {
    "collapsed": false
   },
   "outputs": [],
   "source": [
    "## ANSWER Q4.a\n",
    "##\n",
    "## สร้างไพ่ 4 ใบที่ไม่ซ้ำกัน เก็บไว้ใน list ชื่อ my_cards \n",
    "## แล้วหาค่าผลรวมของหน้าไพ่ เก็บผลลัพธ์ที่ตัวแปร my_points\n",
    "##\n",
    "\n",
    "# create 4 cards in  my_cards\n",
    "my_cards = [Card('sQ'),Card('sK'),Card('s5'),Card('s3')]  \n",
    "\n",
    "my_points = 0\n",
    "#--------- add your code here\n",
    "my_points = CARD_VALUE[ my_cards[0].rank ] + CARD_VALUE[ my_cards[1].rank ] + CARD_VALUE[ my_cards[2].rank ] + CARD_VALUE[ my_cards[3].rank ]\n",
    "\n",
    "\n"
   ]
  },
  {
   "cell_type": "code",
   "execution_count": 92,
   "metadata": {
    "collapsed": false
   },
   "outputs": [
    {
     "name": "stdout",
     "output_type": "stream",
     "text": [
      "33\n"
     ]
    }
   ],
   "source": [
    "print(my_points)"
   ]
  },
  {
   "cell_type": "code",
   "execution_count": 93,
   "metadata": {
    "collapsed": false
   },
   "outputs": [
    {
     "name": "stdout",
     "output_type": "stream",
     "text": [
      "My cards: sQ sK s5 s3. Total value: 33.\n"
     ]
    }
   ],
   "source": [
    "# Run this to print the faces of 4 cards, and my_points\n",
    "card_faces_str = \"My cards:\"\n",
    "for c in my_cards:\n",
    "    card_faces_str += \" \" + c.face\n",
    "    \n",
    "print(\"{}. Total value: {}.\".format(card_faces_str, my_points))"
   ]
  },
  {
   "cell_type": "code",
   "execution_count": 23,
   "metadata": {
    "collapsed": true
   },
   "outputs": [],
   "source": [
    "# Test 4 cards of 'd2', 'sQ', 'cA', 'h8'\n",
    "#....Total value is 36\n",
    "\n",
    "# Test 4 cards of 'd3', 'h2',  'c4', 'cA'\n",
    "#....Total value is 23"
   ]
  },
  {
   "cell_type": "markdown",
   "metadata": {},
   "source": [
    "### Q4.b \n",
    "จงปรับปรุุง def `printCards` เพื่อพิมพ์หน้าไพ่, จำนวนไพ่ และค่าผลรวมของหน้าไพ่ทั้งหมดที่อยู่ใน list `card_list` \n",
    "\n",
    "**ตัวอย่างผลลัพธ์**\n",
    "```\n",
    "---------------- Cards ----------------\n",
    "Cards : ['d2', 'sQ', 'cA', 'h8']\n",
    "Count : 4\n",
    "Value : 36\n",
    "```"
   ]
  },
  {
   "cell_type": "code",
   "execution_count": 108,
   "metadata": {
    "collapsed": false
   },
   "outputs": [],
   "source": [
    "## ANSWER Q3.b\n",
    "## พิมพ์หน้าไพ่, จำนวนไพ่ และค่าผลรวมของหน้าไพ่ทั้งหมดที่อยู่ใน card_list\n",
    "##\n",
    "\n",
    "def printCards( card_list ):\n",
    "    total_value = 0 \n",
    "    count = 4\n",
    "    my_cards = [Card('sQ'),Card('sK'),Card('s5'),Card('s3')]  \n",
    "    total_value = CARD_VALUE[ my_cards[0].rank ] + CARD_VALUE[ my_cards[1].rank ] + CARD_VALUE[ my_cards[2].rank ] + CARD_VALUE[ my_cards[3].rank ]\n",
    "    \n",
    "    card_faces_str = [c.face for c in card_list]        \n",
    "    print(\"---------------- Cards ----------------\")\n",
    "    print(\"Cards : {}\".format( card_faces_str ))\n",
    "    print(\"Count : {}\".format( count ))\n",
    "    print(\"Value : {}\".format( total_value ))\n",
    "    "
   ]
  },
  {
   "cell_type": "code",
   "execution_count": 109,
   "metadata": {
    "collapsed": false
   },
   "outputs": [
    {
     "name": "stdout",
     "output_type": "stream",
     "text": [
      "---------------- Cards ----------------\n",
      "Cards : ['sQ', 'sK', 's5', 's3']\n",
      "Count : 4\n",
      "Value : 33\n"
     ]
    }
   ],
   "source": [
    "#--- Test the def printCoins ---\n",
    "printCards( my_cards )\n",
    "\n"
   ]
  },
  {
   "cell_type": "code",
   "execution_count": null,
   "metadata": {
    "collapsed": true
   },
   "outputs": [],
   "source": []
  },
  {
   "cell_type": "code",
   "execution_count": null,
   "metadata": {
    "collapsed": false
   },
   "outputs": [],
   "source": []
  },
  {
   "cell_type": "code",
   "execution_count": 110,
   "metadata": {
    "collapsed": false
   },
   "outputs": [
    {
     "data": {
      "text/plain": [
       "'2017-02-10T05:25:52.610997'"
      ]
     },
     "execution_count": 110,
     "metadata": {},
     "output_type": "execute_result"
    }
   ],
   "source": [
    "import datetime\n",
    "datetime.datetime.now().isoformat()\n",
    "##\n",
    "## รหัสประจำตัวนักศึกษา :57113021-0\n",
    "##พชรพล กองนิล\n",
    "## แล้วคลิก Run cell ครั้งเดียว เมื่อส่งงาน"
   ]
  },
  {
   "cell_type": "markdown",
   "metadata": {},
   "source": [
    "## end of IPynb"
   ]
  }
 ],
 "metadata": {
  "kernelspec": {
   "display_name": "Python 3",
   "language": "python",
   "name": "python3"
  },
  "language_info": {
   "codemirror_mode": {
    "name": "ipython",
    "version": 3
   },
   "file_extension": ".py",
   "mimetype": "text/x-python",
   "name": "python",
   "nbconvert_exporter": "python",
   "pygments_lexer": "ipython3",
   "version": "3.4.4"
  }
 },
 "nbformat": 4,
 "nbformat_minor": 0
}
